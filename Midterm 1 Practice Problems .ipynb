{
 "cells": [
  {
   "cell_type": "markdown",
   "id": "a1a0e2df",
   "metadata": {},
   "source": [
    "# Loops"
   ]
  },
  {
   "cell_type": "markdown",
   "id": "daec332e",
   "metadata": {},
   "source": [
    "<b> Exercise 1: </b>\n",
    "print out the following using the range(), enumerate(), and zip() methods:\n",
    "\n",
    "- state 0 is Arizona, and city 0 is Phoenix\n",
    "- state 1 is Texas, and city 1 is Austin\n",
    "- state 2 is California, and city 2 is San Diego\n",
    "- state 3 is New York, and city 3 is New York"
   ]
  },
  {
   "cell_type": "code",
   "execution_count": 1,
   "id": "113d0d64",
   "metadata": {},
   "outputs": [],
   "source": [
    "cities = [\"Phoenix\", \"Austin\", \"San Diego\", \"New York\"]\n",
    "states = [\"Arizona\", \"Texas\", \"California\", \"New York\"]"
   ]
  },
  {
   "cell_type": "markdown",
   "id": "f3825bf6",
   "metadata": {},
   "source": [
    "<b> Exercise 2: </b>\n",
    "do the same using a <i> for</i> loop and a  <i> while loop</i>"
   ]
  },
  {
   "cell_type": "markdown",
   "id": "ca0cd92b",
   "metadata": {},
   "source": [
    "<b> Exercise 3: </b> loops w/ unpacking:\n",
    "print the following\n",
    "\n",
    "The Brandybuck are from Buckland\n",
    "\n",
    "The Bagginses are from Bag's End\n",
    "\n",
    "...\n",
    "\n"
   ]
  },
  {
   "cell_type": "code",
   "execution_count": 2,
   "id": "12b5f59c",
   "metadata": {},
   "outputs": [],
   "source": [
    "hobbit_places = (('Buckland','Brandybucks'),(\"Bag's End\",'Bagginses'),('Tuckborough ','Tooks'))"
   ]
  },
  {
   "cell_type": "markdown",
   "id": "d1a007f8",
   "metadata": {},
   "source": [
    "<b> Exercise 4: </b> dictionary unpacking w/ nested loops:\n",
    "Write a nested loop to print the following\n",
    "\n",
    "- The Hobbits:\n",
    "- Their home is the Shire\n",
    "- example is Frodo\n",
    "- The Elves:\n",
    "- Their home is Valinor\n",
    "- example is Galadriel\n",
    "- The Dwarves\n",
    "-  home is Erebor\n",
    "-  example is Gimli\n",
    "\n"
   ]
  },
  {
   "cell_type": "code",
   "execution_count": 3,
   "id": "f41fb8d2",
   "metadata": {},
   "outputs": [],
   "source": [
    "LOTR_dict = {'Hobbits':{'Home':'The Shire','Example':\"Frodo\"},\n",
    "           'Elves':{'Home':'Valinor','Example':\"Galadriel\"},\n",
    "           'Dwarves':{'Home':\"Erebor\",'Example':'Gimli'}}"
   ]
  },
  {
   "cell_type": "code",
   "execution_count": 4,
   "id": "e7d8dbd1",
   "metadata": {},
   "outputs": [
    {
     "data": {
      "text/plain": [
       "{'Hobbits': {'Home': 'The Shire', 'Example': 'Frodo'},\n",
       " 'Elves': {'Home': 'Valinor', 'Example': 'Galadriel'},\n",
       " 'Dwarves': {'Home': 'Erebor', 'Example': 'Gimli'}}"
      ]
     },
     "execution_count": 4,
     "metadata": {},
     "output_type": "execute_result"
    }
   ],
   "source": [
    "LOTR_dict"
   ]
  },
  {
   "cell_type": "markdown",
   "id": "3e6fc6eb",
   "metadata": {},
   "source": [
    "# Misc.\n",
    "<b> Exercise 5: </b>\n",
    "\n",
    "1. x= \"Do not take me for some conjurer of cheap tricks. I am not trying to rob you. I'm trying to help you.\"\n",
    "2. Split the string into a list of strings.\n",
    "3. Check to see if the words 'tricks' and \"rob\" are in the list.\n",
    "4. find the length of the list.\n",
    "5. Add a new list ['My', 'Precious'] to the list\n",
    "6. remove the word \"cheap\" from the list.\n",
    "7. What is the position of the word \"conjurer\"\\\n",
    "8. Finally, use a single space ' ' to join all elements of the list into one string. \n"
   ]
  },
  {
   "cell_type": "markdown",
   "id": "8fb47ad2",
   "metadata": {},
   "source": [
    "<b> Exercise 6: </b>\n",
    "\n",
    "Recall that n! is read as “n factorial” and defined as n!=n×(n−1)×⋯×2×1. Your job is to write your own version as an exercise. In particular, write a function factorial() such that factorial(n) returns n! for any positive integer n."
   ]
  },
  {
   "cell_type": "markdown",
   "id": "ca12dbdb",
   "metadata": {},
   "source": [
    "<b> Exercise 7: </b>\n",
    "\n",
    "Write a function that takes a string as an argument and returns the number of capital letters in the string."
   ]
  },
  {
   "cell_type": "markdown",
   "id": "c4e2ba6f",
   "metadata": {},
   "source": [
    "<b> Exercise 8: </b>\n",
    "\n",
    "Write a function that:\n",
    "1. takes a integer (x)\n",
    "2. multiplies it by 5\n",
    "3. subtracts 3\n",
    "4. adds the original integer (x) divided by 5 "
   ]
  },
  {
   "cell_type": "markdown",
   "id": "0f112dae",
   "metadata": {},
   "source": [
    "<b> Exercise 9: </b>\n",
    "\n",
    "Write some code that tells me how many upper case and lower case letters there are in:"
   ]
  },
  {
   "cell_type": "code",
   "execution_count": 5,
   "id": "a5f9dc28",
   "metadata": {},
   "outputs": [],
   "source": [
    "sentence=\"A b C d E f G h I j K l\""
   ]
  },
  {
   "cell_type": "markdown",
   "id": "9031919f",
   "metadata": {},
   "source": [
    "<b> Exercise 10: </b>\n",
    "\n",
    "Write some code that capitalizes every word in this list:"
   ]
  },
  {
   "cell_type": "code",
   "execution_count": 6,
   "id": "d14d972d",
   "metadata": {},
   "outputs": [],
   "source": [
    "my_list=[\"the\",\"one\",\"piece\",\"is\",\"real\"]"
   ]
  },
  {
   "cell_type": "markdown",
   "id": "81b3d7bf",
   "metadata": {},
   "source": [
    "<b> Exercise 11: </b>\n",
    "\n",
    "The Cobb-Douglas production is defined as \n",
    "\n",
    "$ Y = F(A, K, L) = A K^\\alpha L ^{1-\\alpha} $.\n",
    "\n",
    "Define a function called Cobb_Douglas, with A, K, L as inputs, and Y as output. $\\alpha$ is an optional argument with a default value of 0.3."
   ]
  },
  {
   "cell_type": "markdown",
   "id": "a2c29a44",
   "metadata": {},
   "source": [
    "<b> Exercise 14: </b>\n",
    "\n",
    "write a function that calculates the sum of all numbers from 0-x"
   ]
  },
  {
   "cell_type": "markdown",
   "id": "bbaa1348",
   "metadata": {},
   "source": [
    "<b> Exercise 15: </b>\n",
    "\n",
    "write a function that removes the first x letters from a string"
   ]
  },
  {
   "cell_type": "markdown",
   "id": "4c72fba0",
   "metadata": {},
   "source": [
    "<b> Exercise 16: </b>\n",
    "\n",
    "Write a function find the longest string in a list of strings."
   ]
  },
  {
   "cell_type": "markdown",
   "id": "734ada38",
   "metadata": {},
   "source": [
    "<b> Exercise 17: </b>\n",
    "\n",
    "write a python script that calculates the fibbonacci sequence for the first 14 numbers\n",
    "\n",
    "<i>The Fibonnaci seqence is a sequence of numbers where the next number in the sequence is the sum of the previous two numbers in the sequence. The sequence looks like this: 1, 1, 2, 3, 5, 8, 13,</i>"
   ]
  },
  {
   "cell_type": "markdown",
   "id": "9940362e",
   "metadata": {},
   "source": [
    "\n"
   ]
  },
  {
   "cell_type": "code",
   "execution_count": null,
   "id": "8b18306b",
   "metadata": {},
   "outputs": [],
   "source": []
  },
  {
   "cell_type": "markdown",
   "id": "8549b655",
   "metadata": {},
   "source": [
    "# List Slicing / indexing"
   ]
  },
  {
   "cell_type": "markdown",
   "id": "f342b6b1",
   "metadata": {},
   "source": [
    "<b> Exercise 12: </b>\n",
    "\n",
    "1. Find the first element in the list\n",
    "2. Find the 5-8th element in the list\n",
    "3. print the elements 5th from the right to the 2nd from the right\n",
    "4. print the elements in reverse order <i>hint:  use a while loop</i> \n",
    "5. create a new list that is made up of the 4th-9th values of the original list. Find the 2nd element of this new list\n",
    "6. Replace the 4th element in the list with \"Dogs\" and the 8th element with \"friends\n",
    "7. find the index of the word \"worshipped\""
   ]
  },
  {
   "cell_type": "code",
   "execution_count": 7,
   "id": "43cc5015",
   "metadata": {
    "scrolled": true
   },
   "outputs": [],
   "source": [
    "exercise_12=['In', 'ancient', 'times', 'cats', 'were', 'worshipped', 'as', 'gods;', 'they', 'have', 'not', 'forgotten', 'this']"
   ]
  },
  {
   "cell_type": "markdown",
   "id": "5a354c79",
   "metadata": {},
   "source": [
    "<b> Exercise 13: </b>\n",
    "\n",
    "1. remove every alternate word in the list. your new list should be something like [\"this\", \"life\" ... \"traffic\"]\n",
    "2. use comprehension to capitalize every word in the list\n",
    "3. use a loop to print every word with the letter \"i\" in it\n"
   ]
  },
  {
   "cell_type": "code",
   "execution_count": 8,
   "id": "de530845",
   "metadata": {},
   "outputs": [],
   "source": [
    "exercise_13=['This', 'isn’t', 'life', 'in', 'the', 'fast', 'lane,', 'it’s', 'life', 'in', 'the', 'oncoming', 'traffic.']"
   ]
  },
  {
   "cell_type": "markdown",
   "id": "1c215750",
   "metadata": {},
   "source": [
    "# Answers:"
   ]
  },
  {
   "cell_type": "code",
   "execution_count": 9,
   "id": "c959dfd1",
   "metadata": {},
   "outputs": [
    {
     "name": "stdout",
     "output_type": "stream",
     "text": [
      "state 0 is Arizona, and city 0 is Arizona\n",
      "state 1 is Texas, and city 1 is Texas\n",
      "state 2 is California, and city 2 is California\n",
      "state 3 is New York, and city 3 is New York\n",
      "state 0 is Arizona, and city 0 is Phoenix\n",
      "state 1 is Texas, and city 1 is Austin\n",
      "state 2 is California, and city 2 is San Diego\n",
      "state 3 is New York, and city 3 is New York\n",
      "state 0 is Phoenix, and city 0 is Arizona\n",
      "state 1 is Austin, and city 1 is Texas\n",
      "state 2 is San Diego, and city 2 is California\n",
      "state 3 is New York, and city 3 is New York\n"
     ]
    }
   ],
   "source": [
    "#1\n",
    "\n",
    "for i in range(len(cities)):\n",
    "    print(f\"state {i} is {states[i]}, and city {i} is {states[i]}\")\n",
    "\n",
    "\n",
    "for i,j in enumerate(cities):\n",
    "    print(f\"state {i} is {states[i]}, and city {i} is {j}\")\n",
    "\n",
    "\n",
    "\n",
    "for x,y in zip(cities,states):\n",
    "    print(f\"state {cities.index(x)} is {x}, and city {states.index(y)} is {y}\")"
   ]
  },
  {
   "cell_type": "code",
   "execution_count": 10,
   "id": "b3222fb9",
   "metadata": {},
   "outputs": [
    {
     "name": "stdout",
     "output_type": "stream",
     "text": [
      "state 0 is Arizona, and city 0 is Phoenix\n",
      "state 1 is Texas, and city 1 is Austin\n",
      "state 2 is California, and city 2 is San Diego\n",
      "state 3 is New York, and city 3 is New York\n",
      "state 0 is Arizona, and city 0 is Arizona\n",
      "state 1 is Texas, and city 1 is Texas\n",
      "state 2 is California, and city 2 is California\n",
      "state 3 is New York, and city 3 is New York\n"
     ]
    }
   ],
   "source": [
    "#2\n",
    "for i,j in enumerate(cities):\n",
    "    print(f\"state {i} is {states[i]}, and city {i} is {j}\")\n",
    "    \n",
    "\n",
    "i=0\n",
    "while i<len(cities):\n",
    "    print(f\"state {i} is {states[i]}, and city {i} is {states[i]}\")\n",
    "    i=i+1"
   ]
  },
  {
   "cell_type": "code",
   "execution_count": 11,
   "id": "bb6f1982",
   "metadata": {},
   "outputs": [
    {
     "name": "stdout",
     "output_type": "stream",
     "text": [
      "The Brandybucks are from Buckland\n",
      "The Bagginses are from Bag's End\n",
      "The Tooks are from Tuckborough \n"
     ]
    }
   ],
   "source": [
    "#3\n",
    "for farthing, hobbit in hobbit_places:\n",
    "    print(f'The {hobbit} are from {farthing}')"
   ]
  },
  {
   "cell_type": "code",
   "execution_count": 12,
   "id": "94d65877",
   "metadata": {},
   "outputs": [
    {
     "name": "stdout",
     "output_type": "stream",
     "text": [
      "The  Hobbits\n",
      "Home is The Shire\n",
      "Example is Frodo\n",
      "The  Elves\n",
      "Home is Valinor\n",
      "Example is Galadriel\n",
      "The  Dwarves\n",
      "Home is Erebor\n",
      "Example is Gimli\n"
     ]
    }
   ],
   "source": [
    "#4\n",
    "for x,y in LOTR_dict.items():\n",
    "    print(\"The \", x)\n",
    "    for i,j in y.items():\n",
    "        print(i,\"is\",j)"
   ]
  },
  {
   "cell_type": "code",
   "execution_count": 13,
   "id": "009c5e73",
   "metadata": {},
   "outputs": [
    {
     "name": "stdout",
     "output_type": "stream",
     "text": [
      "True\n",
      "22\n",
      "6\n",
      "Do not take me for some conjurer of tricks. I am not trying to rob you. I'm trying to help you. my precious\n"
     ]
    }
   ],
   "source": [
    "#5\n",
    "x= \"Do not take me for some conjurer of cheap tricks. I am not trying to rob you. I'm trying to help you.\"\n",
    "x=x.split()\n",
    "print(\"tricks\" and \"rob\" in x)\n",
    "print(len(x))\n",
    "x.extend(['my','precious'])\n",
    "x.pop(x.index('cheap'))\n",
    "print(x.index('conjurer'))\n",
    "y=\" \".join(x)\n",
    "print(y)"
   ]
  },
  {
   "cell_type": "code",
   "execution_count": 14,
   "id": "c0f280ea",
   "metadata": {},
   "outputs": [],
   "source": [
    "#6\n",
    "def factorial(n):\n",
    "    total=1\n",
    "    while n>0:\n",
    "        total=total*n\n",
    "        n=n-1\n",
    "    return total\n"
   ]
  },
  {
   "cell_type": "code",
   "execution_count": 15,
   "id": "a029eddc",
   "metadata": {},
   "outputs": [
    {
     "data": {
      "text/plain": [
       "3"
      ]
     },
     "execution_count": 15,
     "metadata": {},
     "output_type": "execute_result"
    }
   ],
   "source": [
    "#7 \n",
    "def cap_letters(string):\n",
    "    count=0\n",
    "    for i in str(string):\n",
    "        if i.isupper():\n",
    "            count+=1\n",
    "            \n",
    "    return(count)\n",
    "cap_letters(\"AAA!\")"
   ]
  },
  {
   "cell_type": "code",
   "execution_count": 16,
   "id": "6efdad56",
   "metadata": {},
   "outputs": [
    {
     "data": {
      "text/plain": [
       "49.0"
      ]
     },
     "execution_count": 16,
     "metadata": {},
     "output_type": "execute_result"
    }
   ],
   "source": [
    "#8\n",
    "def math_func(x):\n",
    "    y=x*5\n",
    "    y=y-3\n",
    "    y=y+(x/5)\n",
    "    \n",
    "    return y\n",
    "\n",
    "math_func(10)\n"
   ]
  },
  {
   "cell_type": "code",
   "execution_count": 17,
   "id": "4ffbd475",
   "metadata": {},
   "outputs": [
    {
     "name": "stdout",
     "output_type": "stream",
     "text": [
      "upper is 6\n",
      "lower is 6\n"
     ]
    }
   ],
   "source": [
    "#9\n",
    "sentence=\"A b C d E f G h I j K l\"\n",
    "\n",
    "upper=0\n",
    "lower=0\n",
    "for i in sentence:\n",
    "    if i.isupper():\n",
    "        upper+=1\n",
    "    if i.islower():\n",
    "        lower+=1\n",
    "print(\"upper is\",upper)\n",
    "print(\"lower is\",lower)"
   ]
  },
  {
   "cell_type": "code",
   "execution_count": 18,
   "id": "9e28b0a4",
   "metadata": {},
   "outputs": [
    {
     "data": {
      "text/plain": [
       "['THE', 'ONE', 'PIECE', 'IS', 'REAL']"
      ]
     },
     "execution_count": 18,
     "metadata": {},
     "output_type": "execute_result"
    }
   ],
   "source": [
    "#10\n",
    "op_list=[\"the\",\"one\",\"piece\",\"is\",\"real\"]\n",
    "\n",
    "for i in op_list:\n",
    "    op_list[op_list.index(i)]=i.upper()\n",
    "\n",
    "op_list"
   ]
  },
  {
   "cell_type": "code",
   "execution_count": 19,
   "id": "75177bf4",
   "metadata": {},
   "outputs": [
    {
     "data": {
      "text/plain": [
       "3.031433133020796"
      ]
     },
     "execution_count": 19,
     "metadata": {},
     "output_type": "execute_result"
    }
   ],
   "source": [
    "#11\n",
    "def Cobb_Douglas(A, K, L, α = 0.3):\n",
    "    return A*K**α*L**(1-α)\n",
    "\n",
    "Cobb_Douglas(1,8,2)"
   ]
  },
  {
   "cell_type": "code",
   "execution_count": 20,
   "id": "25ec97f0",
   "metadata": {},
   "outputs": [
    {
     "name": "stdout",
     "output_type": "stream",
     "text": [
      "In\n",
      "['were', 'worshipped', 'as', 'gods;']\n",
      "['they', 'have', 'not', 'forgotten']\n",
      "this\n",
      "forgotten\n",
      "not\n",
      "have\n",
      "they\n",
      "gods;\n",
      "as\n",
      "worshipped\n",
      "were\n",
      "cats\n",
      "times\n",
      "ancient\n",
      "In\n",
      "this\n",
      "forgotten\n",
      "not\n",
      "have\n",
      "they\n",
      "gods;\n",
      "as\n",
      "worshipped\n",
      "were\n",
      "cats\n",
      "times\n",
      "ancient\n",
      "In\n",
      " \n",
      "\n",
      "were\n"
     ]
    },
    {
     "data": {
      "text/plain": [
       "5"
      ]
     },
     "execution_count": 20,
     "metadata": {},
     "output_type": "execute_result"
    }
   ],
   "source": [
    "#12\n",
    "exercise_12=['In', 'ancient', 'times', 'cats', 'were', 'worshipped', 'as', 'gods;', 'they', 'have', 'not', 'forgotten', 'this']\n",
    "\n",
    "print(exercise_12[0])\n",
    "print(exercise_12[4:8])\n",
    "print(exercise_12[-5:-1])\n",
    "\n",
    "i=len(exercise_12)-1\n",
    "while i>=0:\n",
    "    print(exercise_12[i])\n",
    "    i=i-1\n",
    "    \n",
    "#or you can use .reverse()\n",
    "exercise_12.reverse()\n",
    "for i in exercise_12:\n",
    "    print(i)\n",
    "\n",
    "print(\" \\n\")\n",
    "exercise_12=['In', 'ancient', 'times', 'cats', 'were', 'worshipped', 'as', 'gods;', 'they', 'have', 'not', 'forgotten', 'this']\n",
    "\n",
    "print(exercise_12[3:9][1])\n",
    "exercise_12[3],exercise_12[7]=\"dogs\",\"friends\"\n",
    "\n",
    "exercise_12.index(\"worshipped\")"
   ]
  },
  {
   "cell_type": "code",
   "execution_count": 28,
   "id": "9bbcdc1a",
   "metadata": {},
   "outputs": [
    {
     "data": {
      "text/plain": [
       "['This', 'life', 'the', 'lane,', 'life', 'the', 'traffic.']"
      ]
     },
     "execution_count": 28,
     "metadata": {},
     "output_type": "execute_result"
    }
   ],
   "source": [
    "#13\n",
    "\n",
    "\"\"\"\n",
    "1. remove every alternate word in the list. your new list should be something like [\"this\", \"life\" ... \"traffic\"]\n",
    "2. use comprehension to capitalize every word in the list\n",
    "3. use a loop to print every word with the letter \"i\" in it\n",
    "\n",
    "\"\"\"\n",
    "exercise_13=['This', 'isn’t', 'life', 'in', 'the', 'fast', 'lane,', 'it’s', 'life', 'in', 'the', 'oncoming', 'traffic.']\n",
    "i=0\n",
    "new_list=[]\n",
    "while i<len(exercise_13):\n",
    "    if i%2==0:\n",
    "        new_list.append(exercise_13[i])\n",
    "    i=i+1\n",
    "new_list"
   ]
  },
  {
   "cell_type": "code",
   "execution_count": 4,
   "id": "d4fee097",
   "metadata": {},
   "outputs": [
    {
     "data": {
      "text/plain": [
       "55"
      ]
     },
     "execution_count": 4,
     "metadata": {},
     "output_type": "execute_result"
    }
   ],
   "source": [
    "#14\n",
    "def sum_of_range(x):\n",
    "    total=0\n",
    "    for i in list(range(x+1)):\n",
    "        total=i+total\n",
    "    return total\n",
    "sum_of_range(10)\n",
    "\n",
    "#or you can just use sum(list(range(x+1)))\n"
   ]
  },
  {
   "cell_type": "code",
   "execution_count": 2,
   "id": "b0255fec",
   "metadata": {},
   "outputs": [
    {
     "data": {
      "text/plain": [
       "'defghijklmnopqrstuvwxyz'"
      ]
     },
     "execution_count": 2,
     "metadata": {},
     "output_type": "execute_result"
    }
   ],
   "source": [
    "#15\n",
    "def ex_15(string,x):\n",
    "    return string[x:]\n",
    "\n",
    "ex_15(\"abcdefghijklmnopqrstuvwxyz\",3)"
   ]
  },
  {
   "cell_type": "code",
   "execution_count": 6,
   "id": "03706905",
   "metadata": {},
   "outputs": [
    {
     "name": "stdout",
     "output_type": "stream",
     "text": [
      "0\n",
      "1\n",
      "2\n",
      "3\n",
      "4\n",
      "5\n",
      "6\n",
      "7\n",
      "8\n",
      "9\n"
     ]
    },
    {
     "data": {
      "text/plain": [
       "[1, 1, 2, 3, 5, 8, 13, 21, 34, 55]"
      ]
     },
     "execution_count": 6,
     "metadata": {},
     "output_type": "execute_result"
    }
   ],
   "source": [
    "#16 \n",
    "\n",
    "def ex_16(n):\n",
    "    fibbonacci_list=[]\n",
    "    i=0\n",
    "    while i<n:\n",
    "        if i<2:\n",
    "            #stuff\n",
    "            fibbonacci_list.append(1)\n",
    "        else:\n",
    "            fibbonacci_list.append(fibbonacci_list[i-1]+fibbonacci_list[i-2])\n",
    "        i=i+1    \n",
    "        \n",
    "    return fibbonacci_list\n",
    "\n",
    "ex_16(10)"
   ]
  }
 ],
 "metadata": {
  "kernelspec": {
   "display_name": "Python 3 (ipykernel)",
   "language": "python",
   "name": "python3"
  },
  "language_info": {
   "codemirror_mode": {
    "name": "ipython",
    "version": 3
   },
   "file_extension": ".py",
   "mimetype": "text/x-python",
   "name": "python",
   "nbconvert_exporter": "python",
   "pygments_lexer": "ipython3",
   "version": "3.9.12"
  }
 },
 "nbformat": 4,
 "nbformat_minor": 5
}
