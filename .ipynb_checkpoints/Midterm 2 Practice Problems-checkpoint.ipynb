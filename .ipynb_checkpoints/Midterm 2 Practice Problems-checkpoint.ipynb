{
 "cells": [
  {
   "cell_type": "markdown",
   "id": "0157b6af",
   "metadata": {},
   "source": [
    "# Midterm 2 Practice Problems"
   ]
  },
  {
   "cell_type": "markdown",
   "id": "29b532e7",
   "metadata": {},
   "source": [
    "<a id='Content'></a>\n",
    "Table of Contents:\n",
    "1. [lecture 7 - NumPY](#Numpy)\n",
    "2. [Lecture 8 - Visualization](#Visual)\n",
    "3. [Lecture 9 - Randomness](#Random)\n",
    "4. [Lecture 10 - Pandas](#Panda) # WIP\n",
    "\n",
    "\n",
    "[Answer Key](#Answer) #WIP"
   ]
  },
  {
   "cell_type": "markdown",
   "id": "302dc749",
   "metadata": {},
   "source": [
    "<a id='Numpy'></a>\n",
    "## Lecture 7 - Numpy\n",
    "\n",
    "[table of contents](#Content)"
   ]
  },
  {
   "cell_type": "markdown",
   "id": "d79186d2",
   "metadata": {},
   "source": [
    "<b> Question 1:</b> Rewrite the following function using Dot Products"
   ]
  },
  {
   "cell_type": "code",
   "execution_count": 1,
   "id": "ff42d226",
   "metadata": {},
   "outputs": [],
   "source": [
    "def get_PV(FP,i,n):\n",
    "    total = 0\n",
    "    for j in range(n):\n",
    "        total = total + FP/(1+i)**(j+1)\n",
    "    return total"
   ]
  },
  {
   "cell_type": "code",
   "execution_count": 2,
   "id": "3c1ee965",
   "metadata": {},
   "outputs": [
    {
     "data": {
      "text/plain": [
       "1775.8370153216385"
      ]
     },
     "execution_count": 2,
     "metadata": {},
     "output_type": "execute_result"
    }
   ],
   "source": [
    "get_PV(126, 0.05, 25)"
   ]
  },
  {
   "cell_type": "markdown",
   "id": "0c95a8f7",
   "metadata": {},
   "source": [
    "<b> Question 2</b> Matrices:\n",
    "Given the following Matrix, find\n",
    "\n",
    "2a : Find the element on the second row and third column\n",
    "\n",
    "2b: Find the element on the third row and 1st column\n",
    "\n",
    "2c: Find the second row\n",
    "\n",
    "2d: Find the second and third elements in the second row\n",
    "\n",
    "2f: Transpose the matrix so the rows are now the columns."
   ]
  },
  {
   "cell_type": "code",
   "execution_count": 13,
   "id": "0567843f",
   "metadata": {},
   "outputs": [],
   "source": [
    "mylist = [ [1,2,3],[4,5,6],[7,8,9] ]\n",
    "x1 = np.array(mylist)"
   ]
  },
  {
   "cell_type": "markdown",
   "id": "7bef40de",
   "metadata": {},
   "source": [
    "<b> Question 3:</b> Reshape the following matrix:\n",
    "\n",
    "3a: into a single row\n",
    "\n",
    "3b: into a single column\n",
    "\n",
    "3c: into a matrix with 2 rows\n"
   ]
  },
  {
   "cell_type": "code",
   "execution_count": 35,
   "id": "fe226226",
   "metadata": {},
   "outputs": [],
   "source": [
    "mylist = [ [1,2,3,1],[4,5,6,2],[7,8,9,3],[10,11,12,4] ]\n",
    "x2 = np.array(mylist)\n"
   ]
  },
  {
   "cell_type": "markdown",
   "id": "bccfdafd",
   "metadata": {},
   "source": [
    "<b> Question 4:</b> \n",
    "\n",
    "Creating Matrices:\n",
    "\n",
    "4a: create two matrices with 2 rows and 2 columns each. Fill the matrices with random numbers. \n",
    "\n",
    "4b: find both dot product of the matrices\n",
    "\n",
    "4c: find the inverse of the Matrices and prove that the inverse worked\n",
    "\n",
    "4d: find the determinant of the matrices"
   ]
  },
  {
   "cell_type": "markdown",
   "id": "f41804cd",
   "metadata": {},
   "source": [
    "<b> Question 5:</b> \n",
    "\n",
    "solving systems of equations using python\n",
    "\n",
    "\n",
    "$ 3x + 8y = 5 $ \n",
    "\n",
    "$ 4x + 11y = 7 $"
   ]
  },
  {
   "cell_type": "markdown",
   "id": "5d6875a6",
   "metadata": {},
   "source": [
    "<b> Question 6:</b> \n",
    "\n",
    "Create a Matrix, and findthe eigenvalues and eigenvectors"
   ]
  },
  {
   "cell_type": "markdown",
   "id": "6c2ea39e",
   "metadata": {},
   "source": [
    "<b> Question 7:</b> \n",
    "\n",
    "generate 5 evenly distributed numbers between 2 and 13"
   ]
  },
  {
   "cell_type": "markdown",
   "id": "4b98d961",
   "metadata": {},
   "source": [
    "<b> Question 8:</b> \n",
    "\n",
    "create an array of numbers\n",
    "\n",
    "8a: find the log(x) for every number in the array\n",
    "\n",
    "8b: find the sin value of every value in the array\n",
    "\n",
    "8c: find the standard deviation of the array\n",
    "\n",
    "8d: find the maximum and minimum value in the array\n",
    "\n",
    "8e: find the mean of the array\n",
    "\n",
    "8f: add all of the numbers in the array\n",
    "\n",
    "8g: Sort the numbers in the array from low->high\n"
   ]
  },
  {
   "cell_type": "markdown",
   "id": "a3abe3c7",
   "metadata": {},
   "source": [
    "<a id='Visual'></a>\n",
    "______________________________________________\n",
    "## Lecture 8 - Visualization\n",
    "\n",
    "[table of contents](#Content)"
   ]
  },
  {
   "cell_type": "markdown",
   "id": "860ac360",
   "metadata": {},
   "source": [
    "<b> Question 1:</b> Plot the Sin curve. the color of the line should be red, and it should have a dotted line"
   ]
  },
  {
   "cell_type": "code",
   "execution_count": null,
   "id": "4ad79e3c",
   "metadata": {},
   "outputs": [],
   "source": []
  },
  {
   "cell_type": "markdown",
   "id": "f30c83b1",
   "metadata": {},
   "source": [
    "<b> Question 2:</b> plot the tangent and cosine functions in the same graph.\n",
    "\n",
    "- make your graph be 10 units high and 10 units wide\n",
    "- pick two different colors for the two lines\n",
    "- your line should be 2units thick\n",
    "- design a legend\n",
    "- set y axis to display equally spaced ticks between -1 and 1.\n",
    "- set x axis to display equally spaced ticks between 0 and 6\n",
    "- create a title for your graph"
   ]
  },
  {
   "cell_type": "code",
   "execution_count": null,
   "id": "a8da3ef1",
   "metadata": {},
   "outputs": [],
   "source": []
  },
  {
   "cell_type": "markdown",
   "id": "f86fc117",
   "metadata": {},
   "source": [
    "<b> Question 3:</b> using the following data, create two bar charts\n",
    "\n",
    "\n",
    "\n",
    "<u>Bar Chart 1:</u>\n",
    "\n",
    "graph the populations of the 3 different countries\n",
    "\n",
    "\n",
    "<u>Bar Chart 2</u>\n",
    "\n",
    "plot the area of land in the 3 countries\n",
    "\n",
    "--\n",
    "\n",
    "your bar chart should:\n",
    "- have appropriately labeled axes\n",
    "- have appropriate titles"
   ]
  },
  {
   "cell_type": "code",
   "execution_count": 36,
   "id": "c7119676",
   "metadata": {},
   "outputs": [],
   "source": [
    "countries = ['CAN','MEX','USA']\n",
    "populations = [36.7, 129.2, 325.7]\n",
    "land_area = [3.85, 0.761, 3.79]"
   ]
  },
  {
   "cell_type": "markdown",
   "id": "cd43ef78",
   "metadata": {},
   "source": [
    "for i in pop"
   ]
  },
  {
   "cell_type": "markdown",
   "id": "6f98dee7",
   "metadata": {},
   "source": [
    "<b> Question 4:</b> \n",
    "\n",
    "A 10-year coupon bond has a 1000 face value, and a yearly coupon rate of 5 percent. In a graph, plot the relationship between purchasing prices and the implied yields to maturity. Let prices vary from 800 to 1100.\n",
    "\n",
    "- step 1, solve for the yields for each price\n",
    "- step 2, plot"
   ]
  },
  {
   "cell_type": "markdown",
   "id": "573f8db0",
   "metadata": {},
   "source": [
    "<a id='Random'></a>\n",
    "_____________________________\n",
    "## Lecture 9 - Randomness\n",
    "\n",
    "[table of contents](#Content)"
   ]
  },
  {
   "cell_type": "markdown",
   "id": "f62c48f6",
   "metadata": {},
   "source": [
    "<b> Question 1:</b> \n",
    "\n",
    "1a: get 10 numbers from a discrite uniform distribution between 0-1\n",
    "\n",
    "1b: get 12 whole numbers from a discrete uniform distribution between 1 and 100\n",
    "\n",
    "1c: draw 10 numbers from a standard normal distribution\n"
   ]
  },
  {
   "cell_type": "markdown",
   "id": "0fd3b84b",
   "metadata": {},
   "source": [
    "<b> Question 2:</b> find how many heads you will get from tossing a coin 10 times\n",
    "\n",
    "2a: calculate the Probability Mass function for 10 coin tosses.\n",
    "\n",
    "2b: plot a bar chart to display the data\n",
    "\n",
    "2d: use python to find the probability of getting exactly 2 heads"
   ]
  },
  {
   "cell_type": "markdown",
   "id": "df002084",
   "metadata": {},
   "source": [
    "<b> Question 3:</b> \n",
    "\n",
    "The probability that an adult man in the labor force who is unemployed is about 5%. A random sample of 10 men is taken.\n",
    "\n",
    "3a: Find the probability that\n",
    "\n",
    "1. all 10 men are unemployed\n",
    "2. no men are unemployed\n",
    "3. exactly 2 men are unemployed\n",
    "4. at least 2 men are unemployed\n",
    "\n",
    "3b: Plot the PMF for the data\n"
   ]
  },
  {
   "cell_type": "markdown",
   "id": "1cce1099",
   "metadata": {},
   "source": [
    "<b> Question 4:</b> \n",
    "\n",
    "On average, 12 students visit David during his office hours per week\n",
    "\n",
    "4a:\n",
    "- What is the probability that 10 students go to David's office hours next week?\n",
    "- What is the probability that at least 10 students go to David's office hours next week?\n",
    "- What is the probability that more than 1 student go to David's office hours on Monday?\n",
    "\n",
    "4b: simulate this several times, and plot the distribution of the sample mean"
   ]
  },
  {
   "cell_type": "markdown",
   "id": "801cc335",
   "metadata": {},
   "source": [
    "<b> Question 5:</b> \n",
    "\n",
    "An energy company is looking for fuel additives that might increase gas mileage for cars. Without additives, their cars are known to average 25 mpg (miles per gallons) with a standard deviation of 2.4 mpg. The company now asks whether a particular new additive increases this value. In a study, thirty cars are sent on a road trip. Suppose it turns out that the thirty cars averaged 25.5 mpg with the additive. Can we conclude from this result that the additive is effective?\n",
    "\n"
   ]
  },
  {
   "cell_type": "markdown",
   "id": "dd8a35b8",
   "metadata": {},
   "source": [
    "<a id='Panda'></a>\n",
    "__________________\n",
    "## lecture 10 - Pandas\n",
    "\n",
    "### Not Finished\n",
    "\n",
    "[table of contents](#Content)"
   ]
  },
  {
   "cell_type": "markdown",
   "id": "c7a61d9c",
   "metadata": {},
   "source": [
    "<b> Question 4:</b> "
   ]
  },
  {
   "cell_type": "code",
   "execution_count": null,
   "id": "8493a47d",
   "metadata": {},
   "outputs": [],
   "source": []
  },
  {
   "cell_type": "code",
   "execution_count": null,
   "id": "be863e4e",
   "metadata": {},
   "outputs": [],
   "source": []
  },
  {
   "cell_type": "code",
   "execution_count": null,
   "id": "f09900a2",
   "metadata": {},
   "outputs": [],
   "source": []
  },
  {
   "cell_type": "code",
   "execution_count": null,
   "id": "ca59fc81",
   "metadata": {},
   "outputs": [],
   "source": []
  },
  {
   "cell_type": "markdown",
   "id": "efc25417",
   "metadata": {},
   "source": [
    "<a id='Answer'></a>\n",
    "__________________\n",
    "## Answer key\n",
    "\n",
    "### Not Finished\n",
    "\n",
    "[table of contents](#Content)"
   ]
  },
  {
   "cell_type": "markdown",
   "id": "7c994ff6",
   "metadata": {},
   "source": [
    "## Numpy Questions"
   ]
  },
  {
   "cell_type": "code",
   "execution_count": 1,
   "id": "3301edd8",
   "metadata": {},
   "outputs": [],
   "source": [
    "import numpy as np"
   ]
  },
  {
   "cell_type": "code",
   "execution_count": 2,
   "id": "cf440da3",
   "metadata": {},
   "outputs": [
    {
     "data": {
      "text/plain": [
       "array([1775.83701532])"
      ]
     },
     "execution_count": 2,
     "metadata": {},
     "output_type": "execute_result"
    }
   ],
   "source": [
    "\n",
    "def get_PV2(FP, i, n):\n",
    "    stream = np.ones((1,n))*FP\n",
    "    discount = np.array([ 1/(1+i)**(t+1) for t in range(n) ])\n",
    "    return stream @ discount\n",
    "\n",
    "get_PV2(126, 0.05, 25)\n",
    "\n"
   ]
  },
  {
   "cell_type": "code",
   "execution_count": 13,
   "id": "a2dd0414",
   "metadata": {},
   "outputs": [
    {
     "name": "stdout",
     "output_type": "stream",
     "text": [
      "6\n",
      "7\n",
      "[4 5 6]\n",
      "[5 6]\n",
      "[[1 4 7]\n",
      " [2 5 8]\n",
      " [3 6 9]]\n"
     ]
    }
   ],
   "source": [
    "#question 2\n",
    "mylist = [ [1,2,3],[4,5,6],[7,8,9] ]\n",
    "x2 = np.array(mylist)\n",
    "\n",
    "print(x2[1,2])\n",
    "print(x2[2,0])\n",
    "print(x2[1,:])\n",
    "print(x2[1, 1:3])\n",
    "print(x2.T)"
   ]
  },
  {
   "cell_type": "code",
   "execution_count": 14,
   "id": "f88d11f4",
   "metadata": {},
   "outputs": [],
   "source": [
    "#Question 3\n",
    "mylist = [ [1,2,3,1],[4,5,6,2],[7,8,9,3],[10,11,12,4] ]\n",
    "x2 = np.array(mylist)"
   ]
  },
  {
   "cell_type": "code",
   "execution_count": 19,
   "id": "9e00a742",
   "metadata": {},
   "outputs": [
    {
     "name": "stdout",
     "output_type": "stream",
     "text": [
      "[[ 1  2  3  1  4  5  6  2  7  8  9  3 10 11 12  4]]\n",
      "[[ 1]\n",
      " [ 2]\n",
      " [ 3]\n",
      " [ 1]\n",
      " [ 4]\n",
      " [ 5]\n",
      " [ 6]\n",
      " [ 2]\n",
      " [ 7]\n",
      " [ 8]\n",
      " [ 9]\n",
      " [ 3]\n",
      " [10]\n",
      " [11]\n",
      " [12]\n",
      " [ 4]]\n",
      "[[ 1  2  3  1  4  5  6  2]\n",
      " [ 7  8  9  3 10 11 12  4]]\n"
     ]
    }
   ],
   "source": [
    "print(x2.reshape((1,16)))\n",
    "print(x2.reshape((16,1)))\n",
    "print(x2.reshape(2,8))"
   ]
  },
  {
   "cell_type": "code",
   "execution_count": 50,
   "id": "972a70de",
   "metadata": {},
   "outputs": [
    {
     "name": "stdout",
     "output_type": "stream",
     "text": [
      "[[-0.22222222  0.33333333]\n",
      " [ 0.33333333 -0.33333333]]\n",
      "[[1. 0.]\n",
      " [0. 1.]]\n"
     ]
    }
   ],
   "source": [
    "#Question 4\n",
    "rng = np.random.default_rng()\n",
    "m1=np.array(rng.integers(1,11,size=4)).reshape((2,2))\n",
    "m2=np.array(rng.integers(1,11,size=4)).reshape((2,2))\n",
    "print(np.linalg.inv(m1))\n",
    "print(m1@np.linalg.inv(m1))\n",
    "\n"
   ]
  },
  {
   "cell_type": "code",
   "execution_count": 51,
   "id": "4611134e",
   "metadata": {},
   "outputs": [
    {
     "name": "stdout",
     "output_type": "stream",
     "text": [
      "[[-0.25   0.625]\n",
      " [ 0.25  -0.375]]\n",
      "[[1. 0.]\n",
      " [0. 1.]]\n"
     ]
    }
   ],
   "source": [
    "print(np.linalg.inv(m2))\n",
    "print(m2@np.linalg.inv(m2))"
   ]
  },
  {
   "cell_type": "code",
   "execution_count": 53,
   "id": "e2108108",
   "metadata": {},
   "outputs": [
    {
     "name": "stdout",
     "output_type": "stream",
     "text": [
      "-27.0\n",
      "-15.999999999999991\n"
     ]
    }
   ],
   "source": [
    "print(np.linalg.det(m1))\n",
    "print(np.linalg.det(m2))"
   ]
  },
  {
   "cell_type": "code",
   "execution_count": 59,
   "id": "70b75d6f",
   "metadata": {},
   "outputs": [],
   "source": [
    "#Question 5\n",
    "A = np.array([[3,8],[4,11]])\n",
    "B = np.array([[5],[7]])\n",
    "\n",
    "np.linalg.inv(A) @ B\n"
   ]
  },
  {
   "cell_type": "code",
   "execution_count": 63,
   "id": "96e6ad5c",
   "metadata": {},
   "outputs": [
    {
     "name": "stdout",
     "output_type": "stream",
     "text": [
      "[ 0.07179677 13.92820323]\n",
      "[[-0.9390708  -0.59069049]\n",
      " [ 0.34372377 -0.80689822]]\n"
     ]
    }
   ],
   "source": [
    "#Question 6\n",
    "evals,evecs=np.linalg.eig(A)\n",
    "\n",
    "print(evals)\n",
    "print(evecs)"
   ]
  },
  {
   "cell_type": "code",
   "execution_count": 86,
   "id": "982b1b10",
   "metadata": {},
   "outputs": [
    {
     "name": "stdout",
     "output_type": "stream",
     "text": [
      "[[1.09861229 1.38629436]\n",
      " [2.39789527 2.07944154]]\n",
      "[[ 0.14112001 -0.7568025 ]\n",
      " [-0.99999021  0.98935825]]\n",
      "3.2015621187164243\n",
      "11 3\n",
      "6.5\n",
      "26\n",
      "[[ 3  4]\n",
      " [11  8]]\n",
      "[[ 3  4]\n",
      " [ 8 11]]\n"
     ]
    }
   ],
   "source": [
    "#question 7\n",
    "A = np.array([[3,4],[11,8]])\n",
    "\n",
    "print(np.log(A))\n",
    "\n",
    "print(np.sin(A))\n",
    "\n",
    "print(np.std(A))\n",
    "\n",
    "print(np.max(A),np.min(A))\n",
    "\n",
    "print(np.mean(A))\n",
    "\n",
    "print(np.sum(A))\n",
    "\n",
    "print(A)\n",
    "A.sort()\n",
    "print(A)"
   ]
  },
  {
   "cell_type": "code",
   "execution_count": null,
   "id": "8a01fce5",
   "metadata": {},
   "outputs": [],
   "source": []
  }
 ],
 "metadata": {
  "kernelspec": {
   "display_name": "Python 3 (ipykernel)",
   "language": "python",
   "name": "python3"
  },
  "language_info": {
   "codemirror_mode": {
    "name": "ipython",
    "version": 3
   },
   "file_extension": ".py",
   "mimetype": "text/x-python",
   "name": "python",
   "nbconvert_exporter": "python",
   "pygments_lexer": "ipython3",
   "version": "3.9.12"
  }
 },
 "nbformat": 4,
 "nbformat_minor": 5
}
