{
 "cells": [
  {
   "cell_type": "markdown",
   "id": "0b7ffcdc",
   "metadata": {},
   "source": [
    "# Homework 4 - 3/3/22"
   ]
  },
  {
   "cell_type": "markdown",
   "id": "d1e1b5bf",
   "metadata": {},
   "source": [
    "## Question 1\n"
   ]
  },
  {
   "cell_type": "code",
   "execution_count": 1,
   "id": "46774445",
   "metadata": {},
   "outputs": [
    {
     "data": {
      "text/plain": [
       "array([ 6, -4, 27])"
      ]
     },
     "execution_count": 1,
     "metadata": {},
     "output_type": "execute_result"
    }
   ],
   "source": [
    "#question 1a\n",
    "import numpy as np\n",
    "\n",
    "C=np.array([6,-4,27])\n",
    "C"
   ]
  },
  {
   "cell_type": "code",
   "execution_count": 2,
   "id": "0107f254",
   "metadata": {},
   "outputs": [
    {
     "data": {
      "text/plain": [
       "array([[ 6],\n",
       "       [-4],\n",
       "       [27]])"
      ]
     },
     "execution_count": 2,
     "metadata": {},
     "output_type": "execute_result"
    }
   ],
   "source": [
    "#question 1b\n",
    "C=C.reshape(3,1)\n",
    "C"
   ]
  },
  {
   "cell_type": "code",
   "execution_count": 3,
   "id": "66a6d730",
   "metadata": {},
   "outputs": [
    {
     "data": {
      "text/plain": [
       "array([27])"
      ]
     },
     "execution_count": 3,
     "metadata": {},
     "output_type": "execute_result"
    }
   ],
   "source": [
    "#question 1c\n",
    "C[-1]"
   ]
  },
  {
   "cell_type": "code",
   "execution_count": 4,
   "id": "fab6b553",
   "metadata": {},
   "outputs": [
    {
     "data": {
      "text/plain": [
       "array([[-4],\n",
       "       [27]])"
      ]
     },
     "execution_count": 4,
     "metadata": {},
     "output_type": "execute_result"
    }
   ],
   "source": [
    "#question 1d\n",
    "C[1:3]"
   ]
  },
  {
   "cell_type": "code",
   "execution_count": 5,
   "id": "8449a90d",
   "metadata": {},
   "outputs": [
    {
     "data": {
      "text/plain": [
       "array([[27],\n",
       "       [-4]])"
      ]
     },
     "execution_count": 5,
     "metadata": {},
     "output_type": "execute_result"
    }
   ],
   "source": [
    "#question 1e\n",
    "C[:-3:-1]"
   ]
  },
  {
   "cell_type": "code",
   "execution_count": 20,
   "id": "9a21bd82",
   "metadata": {},
   "outputs": [
    {
     "data": {
      "text/plain": [
       "array([[ 1,  1,  1],\n",
       "       [ 0,  2,  5],\n",
       "       [ 2,  5, -1]])"
      ]
     },
     "execution_count": 20,
     "metadata": {},
     "output_type": "execute_result"
    }
   ],
   "source": [
    "#question 1f\n",
    "A=np.array([[1,1,1],[0,2,5],[2,5,-1]])\n",
    "A\n"
   ]
  },
  {
   "cell_type": "code",
   "execution_count": 21,
   "id": "edf2668e",
   "metadata": {},
   "outputs": [
    {
     "data": {
      "text/plain": [
       "array([[ 1,  1,  1],\n",
       "       [ 0,  2,  5],\n",
       "       [ 2,  5, -1]])"
      ]
     },
     "execution_count": 21,
     "metadata": {},
     "output_type": "execute_result"
    }
   ],
   "source": [
    "#alternate way\n",
    "\n",
    "Alt=np.array([1,1,1,0,2,5,2,5,-1]).reshape(3,3)\n",
    "Alt"
   ]
  },
  {
   "cell_type": "code",
   "execution_count": 22,
   "id": "af345927",
   "metadata": {},
   "outputs": [
    {
     "data": {
      "text/plain": [
       "5"
      ]
     },
     "execution_count": 22,
     "metadata": {},
     "output_type": "execute_result"
    }
   ],
   "source": [
    "#question 1g\n",
    "A[1][2]"
   ]
  },
  {
   "cell_type": "code",
   "execution_count": 8,
   "id": "6f8687a9",
   "metadata": {},
   "outputs": [
    {
     "data": {
      "text/plain": [
       "array([ 2,  5, -1])"
      ]
     },
     "execution_count": 8,
     "metadata": {},
     "output_type": "execute_result"
    }
   ],
   "source": [
    "#question 1h\n",
    "A[:][2]"
   ]
  },
  {
   "cell_type": "code",
   "execution_count": 9,
   "id": "43e4359c",
   "metadata": {},
   "outputs": [
    {
     "data": {
      "text/plain": [
       "array([ 1,  5, -1])"
      ]
     },
     "execution_count": 9,
     "metadata": {},
     "output_type": "execute_result"
    }
   ],
   "source": [
    "#question 1i\n",
    "A[:,2]"
   ]
  },
  {
   "cell_type": "code",
   "execution_count": 10,
   "id": "43f5d9b8",
   "metadata": {},
   "outputs": [
    {
     "data": {
      "text/plain": [
       "-21.0"
      ]
     },
     "execution_count": 10,
     "metadata": {},
     "output_type": "execute_result"
    }
   ],
   "source": [
    "#question 1j\n",
    "np.linalg.det(A)\n",
    "\n",
    "#not singular because determinant =/= 0"
   ]
  },
  {
   "cell_type": "markdown",
   "id": "13483c10",
   "metadata": {},
   "source": [
    "question 1k\n",
    "\n",
    "$ 1(x_1)+1(x_2)+1(x_3) =6  $\n",
    "\n",
    "$ 0(x_1)+2(x_2)+5(x_3) =-4 $\n",
    "\n",
    "$ 2(x_1)+5(x_2)-1(x_3) =27 $"
   ]
  },
  {
   "cell_type": "code",
   "execution_count": 11,
   "id": "030cfbb8",
   "metadata": {},
   "outputs": [
    {
     "data": {
      "text/plain": [
       "array([[ 5.],\n",
       "       [ 3.],\n",
       "       [-2.]])"
      ]
     },
     "execution_count": 11,
     "metadata": {},
     "output_type": "execute_result"
    }
   ],
   "source": [
    "#question 1l\n",
    "\n",
    "from numpy.linalg import inv\n",
    "\n",
    "x=inv(A)@C\n",
    "x"
   ]
  },
  {
   "cell_type": "code",
   "execution_count": 12,
   "id": "071b5dc4",
   "metadata": {},
   "outputs": [
    {
     "data": {
      "text/plain": [
       "array([[6.]])"
      ]
     },
     "execution_count": 12,
     "metadata": {},
     "output_type": "execute_result"
    }
   ],
   "source": [
    "#question 1m\n",
    "#Find the dot product of row 1 of A with the x vector that you solved in step I. \n",
    "\n",
    "A[0:1]@x"
   ]
  },
  {
   "cell_type": "code",
   "execution_count": 13,
   "id": "7d0e369b",
   "metadata": {},
   "outputs": [
    {
     "data": {
      "text/plain": [
       "array([[ 6.],\n",
       "       [-4.],\n",
       "       [27.]])"
      ]
     },
     "execution_count": 13,
     "metadata": {},
     "output_type": "execute_result"
    }
   ],
   "source": [
    "#question 1n\n",
    "#Find the product of A with the x vector that you solved in step I. \n",
    "\n",
    "A@x"
   ]
  },
  {
   "cell_type": "markdown",
   "id": "127412d0",
   "metadata": {},
   "source": [
    "$$\\begin{bmatrix} 1 & 1 & 1 \\\\ 0 & 2 & 5 \\\\ 2 & 5 & -1 \\end{bmatrix} *\\begin{bmatrix} 5 \\\\ 3 \\\\ -2 \\end{bmatrix}= \\begin{bmatrix} 5*1+ & 1*3+ & 1*-2 \\\\ 0*5+ & 2*3+ & 5*-2 \\\\ 2*5+ & 5*3+ & -1*-2 \\end{bmatrix} = \\begin{bmatrix} 6 \\\\ -4 \\\\ 27 \\end{bmatrix}$$"
   ]
  },
  {
   "cell_type": "code",
   "execution_count": 14,
   "id": "becbc335",
   "metadata": {},
   "outputs": [
    {
     "data": {
      "text/plain": [
       "array([[ 1.,  1., 22.]])"
      ]
     },
     "execution_count": 14,
     "metadata": {},
     "output_type": "execute_result"
    }
   ],
   "source": [
    "#question 1p\n",
    "x.T@A"
   ]
  },
  {
   "cell_type": "code",
   "execution_count": 15,
   "id": "a13d37c0",
   "metadata": {},
   "outputs": [],
   "source": [
    "#question 1q"
   ]
  },
  {
   "cell_type": "code",
   "execution_count": 16,
   "id": "87dc3127",
   "metadata": {},
   "outputs": [
    {
     "data": {
      "text/plain": [
       "array([-4.77879032,  0.72601723,  6.05277309])"
      ]
     },
     "execution_count": 16,
     "metadata": {},
     "output_type": "execute_result"
    }
   ],
   "source": [
    "#question 1r\n",
    "\n",
    "#Find the eigenvalues of A. \n",
    "\n",
    "evals,evecs=np.linalg.eig(A)\n",
    "evals"
   ]
  },
  {
   "cell_type": "markdown",
   "id": "e7257067",
   "metadata": {},
   "source": [
    "## Question 2"
   ]
  },
  {
   "cell_type": "markdown",
   "id": "c96b8d6c",
   "metadata": {},
   "source": [
    "In year 1,  the yield on 1-year T-bills is 1%, and on 10-year T-bond is 5%. In year 2, 1-year yield becomes 1.5%, and 10-year yield becomes 8.5%. \n",
    "1. In year 2, does the market expect future short-term interest rate to rise or fall, compared with year 1? Why? Explain carefully. \n",
    "2. Has the probability of a recession risen or decreased?"
   ]
  },
  {
   "cell_type": "markdown",
   "id": "c589b36c",
   "metadata": {},
   "source": [
    "### question 2a\n"
   ]
  },
  {
   "cell_type": "markdown",
   "id": "cff91c80",
   "metadata": {},
   "source": [
    "the market expects short-term interest rates to rise compared to year 1. We know this because the long-term bond interest rate is the average expected interest rate on short term bonds. If the 10 year interest rate is increasing, that means that investors believe that the short-term interest rates will increase in the future."
   ]
  },
  {
   "cell_type": "markdown",
   "id": "bc6fec18",
   "metadata": {},
   "source": [
    "### question 2b"
   ]
  },
  {
   "cell_type": "markdown",
   "id": "bbdb84e6",
   "metadata": {},
   "source": [
    "The probability of a recession has deceased, because rising bond rates signals that the economy is in an expansionary period"
   ]
  }
 ],
 "metadata": {
  "kernelspec": {
   "display_name": "Python 3 (ipykernel)",
   "language": "python",
   "name": "python3"
  },
  "language_info": {
   "codemirror_mode": {
    "name": "ipython",
    "version": 3
   },
   "file_extension": ".py",
   "mimetype": "text/x-python",
   "name": "python",
   "nbconvert_exporter": "python",
   "pygments_lexer": "ipython3",
   "version": "3.9.12"
  }
 },
 "nbformat": 4,
 "nbformat_minor": 5
}
