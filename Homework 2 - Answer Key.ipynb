{
 "cells": [
  {
   "cell_type": "markdown",
   "id": "ff201116",
   "metadata": {},
   "source": [
    "# Homework 1"
   ]
  },
  {
   "cell_type": "markdown",
   "id": "63824313",
   "metadata": {},
   "source": [
    "## Question 1"
   ]
  },
  {
   "cell_type": "code",
   "execution_count": 31,
   "id": "d19d11c6",
   "metadata": {},
   "outputs": [],
   "source": [
    "#picking random prices and names\n",
    "stocks= ('AAPL','GOOGL','MSFT ','AMZN','META ')\n",
    "stock_prices= [150.70, 102.8, 244.74,123.53, 146.29]"
   ]
  },
  {
   "cell_type": "code",
   "execution_count": 32,
   "id": "5fb9058c",
   "metadata": {},
   "outputs": [
    {
     "name": "stdout",
     "output_type": "stream",
     "text": [
      "The price of AAPL is 150.7\n",
      "The price of GOOGL is 102.8\n",
      "The price of MSFT  is 244.74\n",
      "The price of AMZN is 123.53\n",
      "The price of META  is 146.29\n"
     ]
    }
   ],
   "source": [
    "#1a\n",
    "#zip\n",
    "for i,j in zip(stock_prices,stocks): \n",
    "    print(f'The price of {j} is {i}')"
   ]
  },
  {
   "cell_type": "code",
   "execution_count": 33,
   "id": "da792684",
   "metadata": {},
   "outputs": [
    {
     "name": "stdout",
     "output_type": "stream",
     "text": [
      "The price of AAPL is 150.7\n",
      "The price of GOOGL is 102.8\n",
      "The price of MSFT  is 244.74\n",
      "The price of AMZN is 123.53\n",
      "The price of META  is 146.29\n"
     ]
    }
   ],
   "source": [
    "#1a\n",
    "#enumerate\n",
    "for count,value in enumerate(stock_prices):\n",
    "    print(f'The price of {stocks[count]} is {value}')"
   ]
  },
  {
   "cell_type": "code",
   "execution_count": 34,
   "id": "bcc2a090",
   "metadata": {},
   "outputs": [
    {
     "name": "stdout",
     "output_type": "stream",
     "text": [
      "The price of AAPL is 150.7\n",
      "The price of GOOGL is 102.8\n",
      "The price of MSFT  is 244.74\n",
      "The price of AMZN is 123.53\n",
      "The price of META  is 146.29\n"
     ]
    }
   ],
   "source": [
    "#1a\n",
    "#range\n",
    "for x in range(5):\n",
    "    print(f'The price of {stocks[x]} is {stock_prices[x]}')"
   ]
  },
  {
   "cell_type": "code",
   "execution_count": 35,
   "id": "d9685d90",
   "metadata": {},
   "outputs": [
    {
     "data": {
      "text/plain": [
       "{'AAPL': 150.7,\n",
       " 'GOOGL': 102.8,\n",
       " 'MSFT ': 244.74,\n",
       " 'AMZN': 123.53,\n",
       " 'META ': 146.29}"
      ]
     },
     "execution_count": 35,
     "metadata": {},
     "output_type": "execute_result"
    }
   ],
   "source": [
    "#1b\n",
    "stock_dict={}\n",
    "for i in range(len(stocks)):\n",
    "    stock_dict[stocks[i]]=stock_prices[i]\n",
    "    \n",
    "stock_dict"
   ]
  },
  {
   "cell_type": "code",
   "execution_count": 36,
   "id": "1ba754f1",
   "metadata": {},
   "outputs": [
    {
     "name": "stdout",
     "output_type": "stream",
     "text": [
      "The price of AAPL is 150.7\n",
      "The price of GOOGL is 102.8\n",
      "The price of MSFT  is 244.74\n",
      "The price of AMZN is 123.53\n",
      "The price of META  is 146.29\n"
     ]
    }
   ],
   "source": [
    "#1c\n",
    "for i,j in stock_dict.items():\n",
    "    print(f'The price of {i} is {j}')"
   ]
  },
  {
   "cell_type": "code",
   "execution_count": 37,
   "id": "1f02a3e1",
   "metadata": {},
   "outputs": [
    {
     "name": "stdout",
     "output_type": "stream",
     "text": [
      "<class 'dict'>\n"
     ]
    },
    {
     "data": {
      "text/plain": [
       "{'AAPL': 150.7,\n",
       " 'GOOGL': 102.8,\n",
       " 'MSFT ': 244.74,\n",
       " 'AMZN': 123.53,\n",
       " 'META ': 146.29}"
      ]
     },
     "execution_count": 37,
     "metadata": {},
     "output_type": "execute_result"
    }
   ],
   "source": [
    "#1d\n",
    "stock_dict_2=dict(zip(stocks,stock_prices))\n",
    "print(type(stock_dict_2))\n",
    "stock_dict_2"
   ]
  },
  {
   "cell_type": "code",
   "execution_count": 38,
   "id": "017a72a1",
   "metadata": {},
   "outputs": [
    {
     "name": "stdout",
     "output_type": "stream",
     "text": [
      "<class 'dict'>\n"
     ]
    },
    {
     "data": {
      "text/plain": [
       "{'AAPL': 150.7,\n",
       " 'GOOGL': 102.8,\n",
       " 'MSFT ': 244.74,\n",
       " 'AMZN': 123.53,\n",
       " 'META ': 146.29}"
      ]
     },
     "execution_count": 38,
     "metadata": {},
     "output_type": "execute_result"
    }
   ],
   "source": [
    "#1E\n",
    "stock_dict_3={key:value for (key,value) in zip(stocks,stock_prices)}\n",
    "print(type(stock_dict_3))\n",
    "stock_dict_3"
   ]
  },
  {
   "cell_type": "code",
   "execution_count": 39,
   "id": "1171ed02",
   "metadata": {},
   "outputs": [
    {
     "name": "stdout",
     "output_type": "stream",
     "text": [
      "<class 'list'>\n"
     ]
    },
    {
     "data": {
      "text/plain": [
       "['AAPL', 'GOOGL', 'MSFT ', 'AMZN', 'META ']"
      ]
     },
     "execution_count": 39,
     "metadata": {},
     "output_type": "execute_result"
    }
   ],
   "source": [
    "#1G\n",
    "stock_ticker_list=[x for x in stock_dict_3.keys()]\n",
    "print(type(stock_ticker_list))\n",
    "stock_ticker_list"
   ]
  },
  {
   "cell_type": "markdown",
   "id": "d6588330",
   "metadata": {},
   "source": [
    "## Question 2"
   ]
  },
  {
   "cell_type": "code",
   "execution_count": 40,
   "id": "d6549426",
   "metadata": {},
   "outputs": [],
   "source": [
    "mydict2 = {'The North':{'Capital':'Winterfell','House':'Stark'},\n",
    "           'Westerlands':{'Capital':'Casterly Rock','House':'Lannister'},\n",
    "           'Riverlands':{'Capital':'Riverrun','House':'Tully'}}"
   ]
  },
  {
   "cell_type": "code",
   "execution_count": 41,
   "id": "28fb99f3",
   "metadata": {},
   "outputs": [
    {
     "name": "stdout",
     "output_type": "stream",
     "text": [
      "The North\n",
      "The Capital is Winterfell\n",
      "The House is Stark\n",
      "Westerlands\n",
      "The Capital is Casterly Rock\n",
      "The House is Lannister\n",
      "Riverlands\n",
      "The Capital is Riverrun\n",
      "The House is Tully\n"
     ]
    }
   ],
   "source": [
    "for x,y in mydict2.items():\n",
    "    print(x)\n",
    "    for i,j in y.items():\n",
    "        print(f'The {i} is {j}')"
   ]
  },
  {
   "cell_type": "markdown",
   "id": "26263caf",
   "metadata": {},
   "source": [
    "## Question 3"
   ]
  },
  {
   "cell_type": "code",
   "execution_count": 13,
   "id": "2abb5f1e",
   "metadata": {},
   "outputs": [],
   "source": [
    "import numpy as np\n",
    "x=np.random.rand(10000)"
   ]
  },
  {
   "cell_type": "code",
   "execution_count": 14,
   "id": "c8575699",
   "metadata": {},
   "outputs": [
    {
     "name": "stdout",
     "output_type": "stream",
     "text": [
      "565\n"
     ]
    }
   ],
   "source": [
    "#3a\n",
    "for i in range(len(x)):\n",
    "    if x[i] > .999:\n",
    "        print(i)\n",
    "        break  "
   ]
  },
  {
   "cell_type": "code",
   "execution_count": 45,
   "id": "bd834dbd",
   "metadata": {},
   "outputs": [
    {
     "name": "stdout",
     "output_type": "stream",
     "text": [
      "103\n",
      "0.999617560935967\n"
     ]
    }
   ],
   "source": [
    "#3b\n",
    "i = 0\n",
    "while x[i] <= 0.999:\n",
    "    i = i + 1\n",
    "print(i)"
   ]
  },
  {
   "cell_type": "code",
   "execution_count": 47,
   "id": "e55b1d8e",
   "metadata": {},
   "outputs": [
    {
     "name": "stdout",
     "output_type": "stream",
     "text": [
      "3805.7811404564204\n"
     ]
    }
   ],
   "source": [
    "#3c\n",
    "value=0\n",
    "for i in x:\n",
    "    if i<.5:\n",
    "        continue\n",
    "    else:\n",
    "        value=value+i\n",
    "print(value)"
   ]
  },
  {
   "cell_type": "markdown",
   "id": "a7bb02b1",
   "metadata": {},
   "source": [
    "## Question 4"
   ]
  },
  {
   "cell_type": "code",
   "execution_count": 9,
   "id": "d3e0f776",
   "metadata": {},
   "outputs": [],
   "source": [
    "def factorial(n):\n",
    "    k = 1\n",
    "    for i in range(n):\n",
    "        k = k * (i + 1)\n",
    "    return k"
   ]
  },
  {
   "cell_type": "code",
   "execution_count": 11,
   "id": "25649b3b",
   "metadata": {},
   "outputs": [
    {
     "data": {
      "text/plain": [
       "720"
      ]
     },
     "execution_count": 11,
     "metadata": {},
     "output_type": "execute_result"
    }
   ],
   "source": [
    "factorial(6)"
   ]
  },
  {
   "cell_type": "markdown",
   "id": "eef86aa7",
   "metadata": {},
   "source": [
    "## Question 5"
   ]
  },
  {
   "cell_type": "code",
   "execution_count": 5,
   "id": "d3353cc7",
   "metadata": {},
   "outputs": [],
   "source": [
    "def polynomial(x,a): \n",
    "    sumax = 0\n",
    "    for i,a_i in enumerate(a):\n",
    "        sumax += a_i * (x**i)\n",
    "    return sumax"
   ]
  },
  {
   "cell_type": "code",
   "execution_count": 6,
   "id": "f719087c",
   "metadata": {},
   "outputs": [
    {
     "data": {
      "text/plain": [
       "321"
      ]
     },
     "execution_count": 6,
     "metadata": {},
     "output_type": "execute_result"
    }
   ],
   "source": [
    "polynomial(2,[1,2,3,4,5,6])"
   ]
  },
  {
   "cell_type": "markdown",
   "id": "ae8150a1",
   "metadata": {},
   "source": [
    "## Question 6"
   ]
  },
  {
   "cell_type": "code",
   "execution_count": 7,
   "id": "abf714e5",
   "metadata": {},
   "outputs": [],
   "source": [
    "def f(string):\n",
    "    count = 0\n",
    "    for letter in string:\n",
    "        if letter == letter.upper() and letter.isalpha():\n",
    "            count += 1\n",
    "    return count"
   ]
  },
  {
   "cell_type": "code",
   "execution_count": 8,
   "id": "63967db6",
   "metadata": {},
   "outputs": [
    {
     "data": {
      "text/plain": [
       "8"
      ]
     },
     "execution_count": 8,
     "metadata": {},
     "output_type": "execute_result"
    }
   ],
   "source": [
    "f('The Quick Fox Jumps Over The Lazy Dog')"
   ]
  }
 ],
 "metadata": {
  "kernelspec": {
   "display_name": "Python 3 (ipykernel)",
   "language": "python",
   "name": "python3"
  },
  "language_info": {
   "codemirror_mode": {
    "name": "ipython",
    "version": 3
   },
   "file_extension": ".py",
   "mimetype": "text/x-python",
   "name": "python",
   "nbconvert_exporter": "python",
   "pygments_lexer": "ipython3",
   "version": "3.9.12"
  }
 },
 "nbformat": 4,
 "nbformat_minor": 5
}
