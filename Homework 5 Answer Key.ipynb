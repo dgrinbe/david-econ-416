{
 "cells": [
  {
   "cell_type": "markdown",
   "id": "380e2b45",
   "metadata": {},
   "source": [
    "1. Consider a portfolio that has two assets. One is a coupon bond that has a face value of \\\\$10,000, a coupon rate of 5\\%. The other is a fixed payment loan that pays out \\\\$1200 a year. Both assets have 10 years left to maturity. Using an interest rate of 6\\%, calculate the total present value of this portfolio. You are required to use linear algebra to solve this problem. The specific requirements are:\n",
    "\n",
    "* The cashflows of the two assets should be defined as two vectors\n",
    "\n",
    "* Define a matrix called \"cashflows\" to include both vectors\n",
    "\n",
    "* The discount factors for different years should also be included in a vector.\n",
    "\n",
    "* In this process, you will need to compute the product of the cashflow matrix and the vector of discount factors. The output of the the product is a vector with two elements, each representing one asset. The final answer involves the sum of these two elements. \n"
   ]
  },
  {
   "cell_type": "code",
   "execution_count": 1,
   "id": "f5be3320",
   "metadata": {},
   "outputs": [],
   "source": [
    "import numpy as np\n",
    "import matplotlib.pyplot as plt"
   ]
  },
  {
   "cell_type": "code",
   "execution_count": 2,
   "id": "f308b86a",
   "metadata": {},
   "outputs": [
    {
     "name": "stdout",
     "output_type": "stream",
     "text": [
      "The NPV of the protfolio is $18096.095756556162\n"
     ]
    }
   ],
   "source": [
    "i = .06\n",
    "\n",
    "# arrays containing the discount factors\n",
    "discount = np.array([1/(1+i)**(t+1) for t in range(10)])\n",
    "\n",
    "cashflow1 = np.ones(10)*500\n",
    "cashflow2 = np.ones(10)*1200\n",
    "cashflows = np.array([cashflow1, cashflow2])\n",
    "\n",
    "NPVs = cashflows @ discount\n",
    "\n",
    "print(f'The NPV of the protfolio is ${NPVs.sum()+ 10000/((1+i)**10)}')"
   ]
  },
  {
   "cell_type": "markdown",
   "id": "2c8d4357",
   "metadata": {},
   "source": [
    "2. A 10-year coupon bond has a \\\\$1000 face value, and a yearly coupon rate of 5\\%. In a graph, plot the relationship between purchasing prices and the implied yields to maturity. Let prices vary from \\\\$800 to \\\\$1100. \n",
    "\n",
    "step 1, solve for the yields for each price\n",
    "\n",
    "step 2, plot"
   ]
  },
  {
   "cell_type": "code",
   "execution_count": 3,
   "id": "7abd41e3",
   "metadata": {},
   "outputs": [],
   "source": [
    "from scipy.optimize import newton"
   ]
  },
  {
   "cell_type": "code",
   "execution_count": 4,
   "id": "3054f58f",
   "metadata": {},
   "outputs": [],
   "source": [
    "def get_PV(cf, i, n):\n",
    "    stream = cf*np.ones(n)\n",
    "    discounts = [1/(1+i)**(t+1) for t in np.arange(n) ]\n",
    "    return stream@discounts"
   ]
  },
  {
   "cell_type": "code",
   "execution_count": 5,
   "id": "070e45e5",
   "metadata": {},
   "outputs": [],
   "source": [
    "prices = np.linspace(800,1100,40)"
   ]
  },
  {
   "cell_type": "code",
   "execution_count": 6,
   "id": "4accaf54",
   "metadata": {},
   "outputs": [],
   "source": [
    "n = 10\n",
    "cf = 50"
   ]
  },
  {
   "cell_type": "code",
   "execution_count": 7,
   "id": "57d09842",
   "metadata": {},
   "outputs": [],
   "source": [
    "yields1 = np.zeros(len(prices))"
   ]
  },
  {
   "cell_type": "code",
   "execution_count": 8,
   "id": "411b8d1a",
   "metadata": {},
   "outputs": [],
   "source": [
    "for t in np.arange(len(yields1)):\n",
    "    g = lambda i: get_PV(cf,i,n)+1000/(1+i)**n-prices[t] \n",
    "    yields1[t] = newton(g,0.1)"
   ]
  },
  {
   "cell_type": "code",
   "execution_count": 9,
   "id": "15a7b579",
   "metadata": {},
   "outputs": [],
   "source": [
    "index = np.where(prices==1000)"
   ]
  },
  {
   "cell_type": "code",
   "execution_count": 13,
   "id": "9ceb02e4",
   "metadata": {},
   "outputs": [
    {
     "data": {
      "text/plain": [
       "Text(-30, 50, 'Purchase at par')"
      ]
     },
     "execution_count": 13,
     "metadata": {},
     "output_type": "execute_result"
    },
    {
     "data": {
      "image/png": "[encoded data removed]",
      "text/plain": [
       "<Figure size 720x432 with 1 Axes>"
      ]
     },
     "metadata": {
      "needs_background": "light"
     },
     "output_type": "display_data"
    }
   ],
   "source": [
    "fig, ax = plt.subplots(figsize=(10,6))\n",
    "ax.scatter(prices,yields1,color='g',linewidth=3)\n",
    "ax.set_xlabel('Yields')\n",
    "ax.set_ylabel('Prices')\n",
    "ax.plot(prices,np.ones(len(prices))*yields1[index],color='r',linestyle='--')\n",
    "ax.set_title('Relationship between bond prices and yields')\n",
    "ax.annotate(\n",
    "    \"Purchase at par\", xy=(prices[index], yields1[index]), xycoords=\"data\",\n",
    "    xytext=(-30, 50), textcoords=\"offset points\",\n",
    "    arrowprops=dict(arrowstyle=\"->\", connectionstyle=\"arc3,rad=0.0\")\n",
    ")"
   ]
  },
  {
   "cell_type": "code",
   "execution_count": null,
   "id": "49ecb416",
   "metadata": {},
   "outputs": [],
   "source": []
  }
 ],
 "metadata": {
  "kernelspec": {
   "display_name": "Python 3 (ipykernel)",
   "language": "python",
   "name": "python3"
  },
  "language_info": {
   "codemirror_mode": {
    "name": "ipython",
    "version": 3
   },
   "file_extension": ".py",
   "mimetype": "text/x-python",
   "name": "python",
   "nbconvert_exporter": "python",
   "pygments_lexer": "ipython3",
   "version": "3.8.13"
  }
 },
 "nbformat": 4,
 "nbformat_minor": 5
}
